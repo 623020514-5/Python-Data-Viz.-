{
  "nbformat": 4,
  "nbformat_minor": 0,
  "metadata": {
    "colab": {
      "name": "Basic Programming Concepts.ipynb",
      "provenance": [],
      "include_colab_link": true
    },
    "kernelspec": {
      "name": "python3",
      "display_name": "Python 3"
    },
    "language_info": {
      "name": "python"
    }
  },
  "cells": [
    {
      "cell_type": "markdown",
      "metadata": {
        "id": "view-in-github",
        "colab_type": "text"
      },
      "source": [
        "<a href=\"https://colab.research.google.com/github/623020514-5/data_viz_2022/blob/main/Basic_Programming_Concepts.ipynb\" target=\"_parent\"><img src=\"https://colab.research.google.com/assets/colab-badge.svg\" alt=\"Open In Colab\"/></a>"
      ]
    },
    {
      "cell_type": "markdown",
      "source": [
        "# Function $(f(x) = y)$"
      ],
      "metadata": {
        "id": "b9TlKl2ODwpK"
      }
    },
    {
      "cell_type": "markdown",
      "source": [
        "```python\n",
        "def function_name(index):\n",
        "    # do somthing with input_x to get output_y\n",
        "    return output_y\n",
        "```"
      ],
      "metadata": {
        "id": "d5vRCpIEEIcE"
      }
    },
    {
      "cell_type": "markdown",
      "source": [
        "$f_1(x)=x^2+75$"
      ],
      "metadata": {
        "id": "ALwnbDU5FxO9"
      }
    },
    {
      "cell_type": "code",
      "execution_count": 36,
      "metadata": {
        "id": "T8bVae1_DliQ"
      },
      "outputs": [],
      "source": [
        "def function_f1(x):\n",
        "    a = x**2\n",
        "    y = a + 75\n",
        "    return y "
      ]
    },
    {
      "cell_type": "code",
      "source": [
        "function_f1(3)"
      ],
      "metadata": {
        "colab": {
          "base_uri": "https://localhost:8080/"
        },
        "id": "GMyRAvTIGZx-",
        "outputId": "5150e3ce-de33-44a2-9f17-675f9f57208d"
      },
      "execution_count": 37,
      "outputs": [
        {
          "output_type": "execute_result",
          "data": {
            "text/plain": [
              "84"
            ]
          },
          "metadata": {},
          "execution_count": 37
        }
      ]
    },
    {
      "cell_type": "markdown",
      "source": [
        "function มีส่วนสำคัญทั้งหมด 4 ส่วน\n",
        "1. บอก python ว่าจะเขียนฟังก์ชั่น ชื่ออะไร `def function_name():` (ขาดไม่ได้)\n",
        "2. กำหนดตัวแปรที่จะเป็น input *Input* (ขาดได้)\n",
        "3. ส่วนประมวลผล do_somthing with *Input* to get *Output* (ขาดไม่ได้)\n",
        "4. ส่วน output `return` *Output* (ขาดได้)"
      ],
      "metadata": {
        "id": "SElMhAimHTyo"
      }
    },
    {
      "cell_type": "markdown",
      "source": [
        "## ตัวอย่าง function ที่มีส่วนประกอบครบ"
      ],
      "metadata": {
        "id": "9Al7xVlrKOhM"
      }
    },
    {
      "cell_type": "code",
      "source": [
        "def function_f1(x):\n",
        "    a = x**2\n",
        "    y = a + 75\n",
        "    return y "
      ],
      "metadata": {
        "id": "lVxUZslWKY4e"
      },
      "execution_count": 38,
      "outputs": []
    },
    {
      "cell_type": "markdown",
      "source": [
        "## ตัวอย่าง function ที่ไม่มี input"
      ],
      "metadata": {
        "id": "tsHJk2Q3IhD1"
      }
    },
    {
      "cell_type": "code",
      "source": [
        "def pi_v():\n",
        "    y = 3.14159265359\n",
        "    return y"
      ],
      "metadata": {
        "id": "pxYWm2dBGnS_"
      },
      "execution_count": 39,
      "outputs": []
    },
    {
      "cell_type": "code",
      "source": [
        "piv = pi_v()\n",
        "circle_area_r2 = piv*(2**2)\n",
        "print(circle_area_r2)"
      ],
      "metadata": {
        "colab": {
          "base_uri": "https://localhost:8080/"
        },
        "id": "bOsrFgorI0zc",
        "outputId": "a64dcbc1-c54f-48c9-9036-ef2838c3a328"
      },
      "execution_count": 40,
      "outputs": [
        {
          "output_type": "stream",
          "name": "stdout",
          "text": [
            "12.56637061436\n"
          ]
        }
      ]
    },
    {
      "cell_type": "markdown",
      "source": [
        "## function ไม่มี process ไม่ได้"
      ],
      "metadata": {
        "id": "jyjO8KlaLMCE"
      }
    },
    {
      "cell_type": "markdown",
      "source": [
        "```python\n",
        "#function ไม่มี process เขียนไม่ได้ (เขียนได้แต่ error)\n",
        "def function_a():\n",
        "```\n",
        "\n",
        "\n",
        "\n",
        "```python\n",
        "#error ของ function ไม่มี process\n",
        "  File \"<ipython-input-8-07a0750214a8>\", line 1\n",
        "    def function_a():\n",
        "                     ^\n",
        "SyntaxError: unexpected EOF while parsing\n",
        "```\n",
        "\n"
      ],
      "metadata": {
        "id": "pta_0aUPLsqr"
      }
    },
    {
      "cell_type": "markdown",
      "source": [
        "## ตัวอย่าง function ที่ไม่มี output"
      ],
      "metadata": {
        "id": "m6O7RjF7Jj-2"
      }
    },
    {
      "cell_type": "code",
      "source": [
        "def print_name_id(name,id):\n",
        "    print(f'ชื่อ {name} รหัสประจำตัว {id}')"
      ],
      "metadata": {
        "id": "nqJ1AGU3JYmr"
      },
      "execution_count": 41,
      "outputs": []
    },
    {
      "cell_type": "code",
      "source": [
        "print_name_id('จุฑากาญจน์','623020514-5')"
      ],
      "metadata": {
        "colab": {
          "base_uri": "https://localhost:8080/"
        },
        "id": "GN3XYBKzJ9ez",
        "outputId": "b6e50dce-19a6-4096-e7d6-6053ba0e9d3e"
      },
      "execution_count": 42,
      "outputs": [
        {
          "output_type": "stream",
          "name": "stdout",
          "text": [
            "ชื่อ จุฑากาญจน์ รหัสประจำตัว 623020514-5\n"
          ]
        }
      ]
    },
    {
      "cell_type": "markdown",
      "source": [
        "## ตัวอย่าง function `print`\n",
        "\n",
        " https://www.programiz.com/python-programming/methods/built-in/print"
      ],
      "metadata": {
        "id": "OgiFfx2LPAp0"
      }
    },
    {
      "cell_type": "code",
      "source": [
        "print('จุฑากาญจน์')\n",
        "print('623020514-5')"
      ],
      "metadata": {
        "colab": {
          "base_uri": "https://localhost:8080/"
        },
        "id": "yhC5sDQYPlrZ",
        "outputId": "bebc81b0-9bed-4c19-922f-e0d84f19d6b9"
      },
      "execution_count": 43,
      "outputs": [
        {
          "output_type": "stream",
          "name": "stdout",
          "text": [
            "จุฑากาญจน์\n",
            "623020514-5\n"
          ]
        }
      ]
    },
    {
      "cell_type": "code",
      "source": [
        "print('จุฑากาญจน์',end='->')\n",
        "print('623020514-5')"
      ],
      "metadata": {
        "colab": {
          "base_uri": "https://localhost:8080/"
        },
        "id": "bZD2wawfKIdV",
        "outputId": "3253ff60-2b37-4cbd-ddb5-1ea9290617b2"
      },
      "execution_count": 44,
      "outputs": [
        {
          "output_type": "stream",
          "name": "stdout",
          "text": [
            "จุฑากาญจน์->623020514-5\n"
          ]
        }
      ]
    },
    {
      "cell_type": "code",
      "source": [
        "print('จุฑากาญจน์','623020514-5')"
      ],
      "metadata": {
        "colab": {
          "base_uri": "https://localhost:8080/"
        },
        "id": "9ijS3U6-PduM",
        "outputId": "fd143874-9b9f-48a1-bc3b-3e6ed0b0c0e3"
      },
      "execution_count": 45,
      "outputs": [
        {
          "output_type": "stream",
          "name": "stdout",
          "text": [
            "จุฑากาญจน์ 623020514-5\n"
          ]
        }
      ]
    },
    {
      "cell_type": "code",
      "source": [
        "print('จุฑากาญจน์','623020514-5',sep=' & ')"
      ],
      "metadata": {
        "colab": {
          "base_uri": "https://localhost:8080/"
        },
        "id": "_bYTb6_jPu_M",
        "outputId": "7e327ac2-fed9-4f2f-a6cf-18adaa508649"
      },
      "execution_count": 46,
      "outputs": [
        {
          "output_type": "stream",
          "name": "stdout",
          "text": [
            "จุฑากาญจน์ & 623020514-5\n"
          ]
        }
      ]
    },
    {
      "cell_type": "markdown",
      "source": [
        "## input ของ function \n",
        "แบ่งออกเป็น 2 ชนิด (จำเป็นต้องใส่ กับ ไม่จำเป็นต้องใส่)"
      ],
      "metadata": {
        "id": "vTVJ-dQxQJJa"
      }
    },
    {
      "cell_type": "markdown",
      "source": [
        "ตัวอย่าง function `print_grade()` มี input 3 ตัว จำเป็นต้องใส่ 2 ตัว คือ name กับ id และไม่จำเป็นต้องใส่ 1 ตัว คือเกรด ซึ่งมีค่า default เป็น F"
      ],
      "metadata": {
        "id": "AApdlSkSRF2K"
      }
    },
    {
      "cell_type": "code",
      "source": [
        "def print_grade(name,id,grade = 'F'):\n",
        "    print(f'รหัสประจำตัว {id} ชื่อ {name}')\n",
        "    print(f'ได้เกรด {grade}')"
      ],
      "metadata": {
        "id": "DhTAuqOjQHQL"
      },
      "execution_count": 47,
      "outputs": []
    },
    {
      "cell_type": "code",
      "source": [
        "print_grade('จุฑากาญจน์','623020514-5')"
      ],
      "metadata": {
        "colab": {
          "base_uri": "https://localhost:8080/"
        },
        "id": "5c4A1cZxREfV",
        "outputId": "54c62892-f8a2-4aaf-9e3a-11ce5617d640"
      },
      "execution_count": 48,
      "outputs": [
        {
          "output_type": "stream",
          "name": "stdout",
          "text": [
            "รหัสประจำตัว 623020514-5 ชื่อ จุฑากาญจน์\n",
            "ได้เกรด F\n"
          ]
        }
      ]
    },
    {
      "cell_type": "code",
      "source": [
        "print_grade('จุฑากาญจน์','623020514-5','A')"
      ],
      "metadata": {
        "colab": {
          "base_uri": "https://localhost:8080/"
        },
        "id": "5j5EUcprR4tP",
        "outputId": "f8e2d769-835e-4700-82d5-7a6c27b0e126"
      },
      "execution_count": 49,
      "outputs": [
        {
          "output_type": "stream",
          "name": "stdout",
          "text": [
            "รหัสประจำตัว 623020514-5 ชื่อ จุฑากาญจน์\n",
            "ได้เกรด A\n"
          ]
        }
      ]
    },
    {
      "cell_type": "code",
      "source": [
        "print_grade(id='623020514-5',name='จุฑากาญจน์',grade='B+')"
      ],
      "metadata": {
        "colab": {
          "base_uri": "https://localhost:8080/"
        },
        "id": "a1zFBm60R-b_",
        "outputId": "123b7dec-56b5-48ac-d85e-6254a8347824"
      },
      "execution_count": 50,
      "outputs": [
        {
          "output_type": "stream",
          "name": "stdout",
          "text": [
            "รหัสประจำตัว 623020514-5 ชื่อ จุฑากาญจน์\n",
            "ได้เกรด B+\n"
          ]
        }
      ]
    },
    {
      "cell_type": "markdown",
      "source": [
        "# Looping (for)"
      ],
      "metadata": {
        "id": "t1bxlb7RTVxn"
      }
    },
    {
      "cell_type": "markdown",
      "source": [
        "```python\n",
        "# วนลูป member ในอะไรซักอย่าง\n",
        "for member in listEX:\n",
        "    do_somthing()\n",
        "```\n",
        "\n"
      ],
      "metadata": {
        "id": "6Ambn_EbTmjd"
      }
    },
    {
      "cell_type": "code",
      "source": [
        "for member in [1,2,3,4,5,6]:    # ให้ member วนลูปใน list แล้ว print ออกมา\n",
        "    print(member)"
      ],
      "metadata": {
        "id": "ps8I1S62SNtP",
        "outputId": "c1fe9b8c-1cde-4f1f-b190-a0594db0d6d7",
        "colab": {
          "base_uri": "https://localhost:8080/"
        }
      },
      "execution_count": 51,
      "outputs": [
        {
          "output_type": "stream",
          "name": "stdout",
          "text": [
            "1\n",
            "2\n",
            "3\n",
            "4\n",
            "5\n",
            "6\n"
          ]
        }
      ]
    },
    {
      "cell_type": "code",
      "source": [
        "def print_name(name):       # เขียน function ให้ print ชื่อที่ input เข้าไป \n",
        "    print(f'ฉันชื่อ {name}')"
      ],
      "metadata": {
        "id": "jOthvy1oUbhm"
      },
      "execution_count": 52,
      "outputs": []
    },
    {
      "cell_type": "code",
      "source": [
        "for name in ['วัชราภรณ์','จุฑากาญจน์','ชลธิชา','ญาดา','กิตติคุณ']:  # ให้ name วนลูปใน list\n",
        "    N = name    # เอาตัวแปร N มารับค่าที่ name วนลูป\n",
        "    print_name(N)   # ใส่ตัวแปร N ลงใน function print_name"
      ],
      "metadata": {
        "id": "nTmUF8DQVGhw",
        "outputId": "5c2b3eac-642f-4e10-d73c-c4ec4143ff2c",
        "colab": {
          "base_uri": "https://localhost:8080/"
        }
      },
      "execution_count": 53,
      "outputs": [
        {
          "output_type": "stream",
          "name": "stdout",
          "text": [
            "ฉันชื่อ วัชราภรณ์\n",
            "ฉันชื่อ จุฑากาญจน์\n",
            "ฉันชื่อ ชลธิชา\n",
            "ฉันชื่อ ญาดา\n",
            "ฉันชื่อ กิตติคุณ\n"
          ]
        }
      ]
    },
    {
      "cell_type": "code",
      "source": [
        "list_name_id_grade = [['นางสาวเบญญาภา ระภูเขียว','623020527-6','B'],\n",
        "                      ['นางสาวทักษิณา ราชหุ่น','623021000-1','A'],\n",
        "                      ['นางสาวปลายฟ้า คำเพ็ง','623021005-1','C']]"
      ],
      "metadata": {
        "id": "PMixkk2DWXK6"
      },
      "execution_count": 54,
      "outputs": []
    },
    {
      "cell_type": "code",
      "source": [
        "for each in list_name_id_grade:\n",
        "    name = each[0]\n",
        "    id = each[1]\n",
        "    grade = each[2]\n",
        "    print_grade(name,id,grade)\n",
        "    print('--------------')"
      ],
      "metadata": {
        "id": "SlgwpcCTXlS1",
        "outputId": "ef03c10a-78a2-4a9c-f03c-2cfd179f9684",
        "colab": {
          "base_uri": "https://localhost:8080/"
        }
      },
      "execution_count": 55,
      "outputs": [
        {
          "output_type": "stream",
          "name": "stdout",
          "text": [
            "รหัสประจำตัว 623020527-6 ชื่อ นางสาวเบญญาภา ระภูเขียว\n",
            "ได้เกรด B\n",
            "--------------\n",
            "รหัสประจำตัว 623021000-1 ชื่อ นางสาวทักษิณา ราชหุ่น\n",
            "ได้เกรด A\n",
            "--------------\n",
            "รหัสประจำตัว 623021005-1 ชื่อ นางสาวปลายฟ้า คำเพ็ง\n",
            "ได้เกรด C\n",
            "--------------\n"
          ]
        }
      ]
    },
    {
      "cell_type": "markdown",
      "source": [
        "## ใช้ for loop เพิ่มสมาชิกใน list"
      ],
      "metadata": {
        "id": "LljFhCF6YYv8"
      }
    },
    {
      "cell_type": "code",
      "source": [
        "list_name = []\n",
        "list_id = []\n",
        "list_grade = []\n",
        "for each in list_name_id_grade:\n",
        "    list_name.append(each[0])       # เพิ่มสมาชิกเข้าใน list_name ด้วยการวนลูป each ใน list_name_id_grade เอาตัวที่ [0]\n",
        "    list_id.append(each[1])\n",
        "    list_grade.append(each[2])"
      ],
      "metadata": {
        "id": "j4RFKvtQYBuX"
      },
      "execution_count": 56,
      "outputs": []
    },
    {
      "cell_type": "code",
      "source": [
        "list_name"
      ],
      "metadata": {
        "id": "aoGJxrEkZKwD",
        "outputId": "05121414-5fad-4cc9-f468-eb70e66a6fb5",
        "colab": {
          "base_uri": "https://localhost:8080/"
        }
      },
      "execution_count": 57,
      "outputs": [
        {
          "output_type": "execute_result",
          "data": {
            "text/plain": [
              "['นางสาวเบญญาภา ระภูเขียว', 'นางสาวทักษิณา ราชหุ่น', 'นางสาวปลายฟ้า คำเพ็ง']"
            ]
          },
          "metadata": {},
          "execution_count": 57
        }
      ]
    },
    {
      "cell_type": "markdown",
      "source": [
        "## การวนลูปด้วย range()"
      ],
      "metadata": {
        "id": "y8TSV8tfbhRm"
      }
    },
    {
      "cell_type": "code",
      "source": [
        "for i in range(100):    # วนลูปด้วยค่าซ้ำ\n",
        "    print('truly', end = ' ')"
      ],
      "metadata": {
        "id": "fWAUdevHZNbj",
        "outputId": "969b508e-0fcf-4956-878c-e0f35e874c16",
        "colab": {
          "base_uri": "https://localhost:8080/"
        }
      },
      "execution_count": 58,
      "outputs": [
        {
          "output_type": "stream",
          "name": "stdout",
          "text": [
            "truly truly truly truly truly truly truly truly truly truly truly truly truly truly truly truly truly truly truly truly truly truly truly truly truly truly truly truly truly truly truly truly truly truly truly truly truly truly truly truly truly truly truly truly truly truly truly truly truly truly truly truly truly truly truly truly truly truly truly truly truly truly truly truly truly truly truly truly truly truly truly truly truly truly truly truly truly truly truly truly truly truly truly truly truly truly truly truly truly truly truly truly truly truly truly truly truly truly truly truly "
          ]
        }
      ]
    },
    {
      "cell_type": "markdown",
      "source": [
        "## Loop ซ้อน Loop"
      ],
      "metadata": {
        "id": "rYHGqCiTcW_U"
      }
    },
    {
      "cell_type": "code",
      "source": [
        "for mem1 in range(2,5):     #[2,3,4]\n",
        "    print(f'now mem1 = {mem1}')\n",
        "    for mem2 in range(1,13):    #[1,2,3,4,5,6,7,8,9,10,11,12]\n",
        "        print(f'{mem1} x {mem2} = {mem1*mem2}')\n",
        "    print(f'end inner for mem1 = {mem1}')"
      ],
      "metadata": {
        "id": "Yz7WiYQXb4fN",
        "outputId": "a1a91269-6dc6-46d9-dae6-bac85bb60e51",
        "colab": {
          "base_uri": "https://localhost:8080/"
        }
      },
      "execution_count": 59,
      "outputs": [
        {
          "output_type": "stream",
          "name": "stdout",
          "text": [
            "now mem1 = 2\n",
            "2 x 1 = 2\n",
            "2 x 2 = 4\n",
            "2 x 3 = 6\n",
            "2 x 4 = 8\n",
            "2 x 5 = 10\n",
            "2 x 6 = 12\n",
            "2 x 7 = 14\n",
            "2 x 8 = 16\n",
            "2 x 9 = 18\n",
            "2 x 10 = 20\n",
            "2 x 11 = 22\n",
            "2 x 12 = 24\n",
            "end inner for mem1 = 2\n",
            "now mem1 = 3\n",
            "3 x 1 = 3\n",
            "3 x 2 = 6\n",
            "3 x 3 = 9\n",
            "3 x 4 = 12\n",
            "3 x 5 = 15\n",
            "3 x 6 = 18\n",
            "3 x 7 = 21\n",
            "3 x 8 = 24\n",
            "3 x 9 = 27\n",
            "3 x 10 = 30\n",
            "3 x 11 = 33\n",
            "3 x 12 = 36\n",
            "end inner for mem1 = 3\n",
            "now mem1 = 4\n",
            "4 x 1 = 4\n",
            "4 x 2 = 8\n",
            "4 x 3 = 12\n",
            "4 x 4 = 16\n",
            "4 x 5 = 20\n",
            "4 x 6 = 24\n",
            "4 x 7 = 28\n",
            "4 x 8 = 32\n",
            "4 x 9 = 36\n",
            "4 x 10 = 40\n",
            "4 x 11 = 44\n",
            "4 x 12 = 48\n",
            "end inner for mem1 = 4\n"
          ]
        }
      ]
    },
    {
      "cell_type": "markdown",
      "source": [
        "## Loop in Function"
      ],
      "metadata": {
        "id": "BcF-Ndwsf92b"
      }
    },
    {
      "cell_type": "code",
      "source": [
        "def print_grade_loop(names,grades):    # function ที่มี input 2 ค่า\n",
        "    for n,g in zip(names,grades):    # วนลูป n,g ใน names,grades\n",
        "        print(f'{n} ได้เกรด {g}')"
      ],
      "metadata": {
        "id": "ZzYQSpWdf69q"
      },
      "execution_count": 60,
      "outputs": []
    },
    {
      "cell_type": "code",
      "source": [
        "print_grade_loop(list_name,list_grade)"
      ],
      "metadata": {
        "id": "XFR7Oy9NguxL",
        "outputId": "a94748e1-b930-4520-e36a-0a0fa7ab63e0",
        "colab": {
          "base_uri": "https://localhost:8080/"
        }
      },
      "execution_count": 61,
      "outputs": [
        {
          "output_type": "stream",
          "name": "stdout",
          "text": [
            "นางสาวเบญญาภา ระภูเขียว ได้เกรด B\n",
            "นางสาวทักษิณา ราชหุ่น ได้เกรด A\n",
            "นางสาวปลายฟ้า คำเพ็ง ได้เกรด C\n"
          ]
        }
      ]
    },
    {
      "cell_type": "markdown",
      "source": [
        "# Condition Statement (if)"
      ],
      "metadata": {
        "id": "89-Pt36uh3nR"
      }
    },
    {
      "cell_type": "markdown",
      "source": [
        "```python\n",
        "if condition1:     \n",
        "    do_something()    # ถ้า condition1 เป็นจริง ทำ do_something()\n",
        "elif condition2:   \n",
        "    do_another_thing()    # ถ้า condition1 ไม่เป็นจริง แต่ condition2 เป็นจริง ทำ do_another_thing()\n",
        "else:\n",
        "    do_the_last_thing() # ถ้าไม่มี condition ไหนเป็นจริงเลย ทำ do_the_last_thing()\n",
        "```\n",
        "\n"
      ],
      "metadata": {
        "id": "EFrkOufNiGFS"
      }
    },
    {
      "cell_type": "code",
      "source": [
        "for n in list_name:\n",
        "    if len(n)>20:\n",
        "        print(f'{n} ได้เกรด A')\n",
        "    else:\n",
        "        print(f'{n} ได้เกรด F')"
      ],
      "metadata": {
        "id": "8SpnN4LShCR5",
        "outputId": "707c736a-057b-419e-b3bb-79562632e930",
        "colab": {
          "base_uri": "https://localhost:8080/"
        }
      },
      "execution_count": 62,
      "outputs": [
        {
          "output_type": "stream",
          "name": "stdout",
          "text": [
            "นางสาวเบญญาภา ระภูเขียว ได้เกรด A\n",
            "นางสาวทักษิณา ราชหุ่น ได้เกรด A\n",
            "นางสาวปลายฟ้า คำเพ็ง ได้เกรด F\n"
          ]
        }
      ]
    },
    {
      "cell_type": "markdown",
      "source": [
        "## operator ที่ใช้ตรวจสอบ condition\n",
        "\n",
        "==, !=, >=,<=, >, <, and, or"
      ],
      "metadata": {
        "id": "amVyMeujkgsQ"
      }
    },
    {
      "cell_type": "code",
      "source": [
        "a = 10 == 20    \n",
        "print(a)"
      ],
      "metadata": {
        "id": "X0y4gI1NkeQs",
        "outputId": "745abb6d-874d-4e7f-8292-1e425bf3dcec",
        "colab": {
          "base_uri": "https://localhost:8080/"
        }
      },
      "execution_count": 63,
      "outputs": [
        {
          "output_type": "stream",
          "name": "stdout",
          "text": [
            "False\n"
          ]
        }
      ]
    },
    {
      "cell_type": "code",
      "source": [
        "b = 15 <= 20    # 15 <= 20 True or False\n",
        "print(b)"
      ],
      "metadata": {
        "id": "udCzrj_wk3So",
        "outputId": "375270f7-cdbb-485a-86a0-221971274e35",
        "colab": {
          "base_uri": "https://localhost:8080/"
        }
      },
      "execution_count": 64,
      "outputs": [
        {
          "output_type": "stream",
          "name": "stdout",
          "text": [
            "True\n"
          ]
        }
      ]
    },
    {
      "cell_type": "code",
      "source": [
        "if a:           # ถ้า a เป็น True print 'X'\n",
        "    print('X')"
      ],
      "metadata": {
        "id": "hGfr48FdlG0L"
      },
      "execution_count": 65,
      "outputs": []
    },
    {
      "cell_type": "code",
      "source": [
        "if True:        # ถ้า True print 'X'\n",
        "    print('X')"
      ],
      "metadata": {
        "id": "eBf42UD-lK4U",
        "outputId": "87e13d26-fa1e-40db-f6a8-f0c778aa66da",
        "colab": {
          "base_uri": "https://localhost:8080/"
        }
      },
      "execution_count": 66,
      "outputs": [
        {
          "output_type": "stream",
          "name": "stdout",
          "text": [
            "X\n"
          ]
        }
      ]
    },
    {
      "cell_type": "code",
      "source": [
        "if b:       # ถ้า b เป็น True print 'X'\n",
        "    print('X')"
      ],
      "metadata": {
        "id": "j1n09E4PcjVA",
        "outputId": "11cd32cc-2c8b-4a9d-b60f-fcf835067802",
        "colab": {
          "base_uri": "https://localhost:8080/"
        }
      },
      "execution_count": 67,
      "outputs": [
        {
          "output_type": "stream",
          "name": "stdout",
          "text": [
            "X\n"
          ]
        }
      ]
    },
    {
      "cell_type": "code",
      "source": [
        "if a and b:     # ถ้า a and b เป็น True print 'X'\n",
        "    print('X')"
      ],
      "metadata": {
        "id": "qQPdnAMulO2a"
      },
      "execution_count": 68,
      "outputs": []
    },
    {
      "cell_type": "code",
      "source": [
        "if a or b:      # ถ้า a or b เป็น True print 'X'\n",
        "    print('X')"
      ],
      "metadata": {
        "id": "4r6a_PgLlVc3",
        "outputId": "d1c75a77-701b-4e23-b99e-fcf961e21ec2",
        "colab": {
          "base_uri": "https://localhost:8080/"
        }
      },
      "execution_count": 69,
      "outputs": [
        {
          "output_type": "stream",
          "name": "stdout",
          "text": [
            "X\n"
          ]
        }
      ]
    },
    {
      "cell_type": "markdown",
      "source": [
        "# HW4\n",
        "เขียน functoin ตัดเกรด โดยที่ input เป็นคะแนน(0-100) , output เป็นเกรด (F-A) หรือ 'ไม่สามารถตัดเกรดได้'\n",
        "\n",
        "วนลูปตัดเกรด input = [1,50,65,90,101,-5,49,'ก',80]\n",
        "\n",
        "กำหนด\n",
        "\n",
        "- ถ้าคะแนนอยู่ระหว่างมากกว่าหรือเท่ากับ 0 แต่น้อยกว่า 50 จะได้เกรด F\n",
        "- ถ้าคะแนนอยู่ระหว่างมากกว่าหรือเท่ากับ 50 แต่น้อยกว่า 55 จะได้เกรด D\n",
        "- ถ้าคะแนนอยู่ระหว่างมากกว่าหรือเท่ากับ 55 แต่น้อยกว่า 60 จะได้เกรด D+\n",
        "- ถ้าคะแนนอยู่ระหว่างมากกว่าหรือเท่ากับ 60 แต่น้อยกว่า 65 จะได้เกรด C\n",
        "- ถ้าคะแนนอยู่ระหว่างมากกว่าหรือเท่ากับ 65 แต่น้อยกว่า 70 จะได้เกรด C+\n",
        "- ถ้าคะแนนอยู่ระหว่างมากกว่าหรือเท่ากับ 70 แต่น้อยกว่า 75 จะได้เกรด B\n",
        "- ถ้าคะแนนอยู่ระหว่างมากกว่าหรือเท่ากับ 75 แต่น้อยกว่า 80 จะได้เกรด B+\n",
        "- ถ้าคะแนนอยู่ระหว่างมากกว่าหรือเท่ากับ 80 จะได้เกรด A\n",
        "- ถ้าคะแนนไม่อยู่ในช่วง 0-100 ให้ return 'ไม่สามารถตัดเกรดได้'"
      ],
      "metadata": {
        "id": "H3bH4I9OltDA"
      }
    },
    {
      "cell_type": "code",
      "source": [
        "## แบบใส่ input ทีละตัว\n",
        "\n",
        "def cal_grade(x):\n",
        "    if type(x) == type(''):\n",
        "        print(f'point {x} Can not find your grade')\n",
        "    else:\n",
        "        if x >= 0 and x < 50:\n",
        "            print(f'point {x} to grade F')\n",
        "        elif x >= 50 and x < 55:\n",
        "            print(f'point {x} to grade D')\n",
        "        elif x >= 55 and x < 60:\n",
        "            print(f'point{x} to grade D+')\n",
        "        elif x >= 60 and x < 65:\n",
        "            print(f'point {x} to grade C')\n",
        "        elif x >= 65 and x < 70:\n",
        "            print(f'point {x} to grade C+')\n",
        "        elif x >= 70 and x < 75:\n",
        "            print(f'point {x} to grade B')\n",
        "        elif x >= 75 and x < 80:\n",
        "            print(f'point {x} to grade B+')\n",
        "        elif x >= 80 and x <= 100:\n",
        "            print(f'point {x} to grade A')\n",
        "        else:\n",
        "            print(f'point {x} Cant find your grade')"
      ],
      "metadata": {
        "id": "vOb5HeDSlhlo"
      },
      "execution_count": 70,
      "outputs": []
    },
    {
      "cell_type": "code",
      "source": [
        "#คำนวณทีล่ะตัว\n",
        "cal_grade(1)"
      ],
      "metadata": {
        "id": "0nsq2WGiRFPh",
        "outputId": "bddd0636-71aa-4e9f-ff75-3a3b7d0b720b",
        "colab": {
          "base_uri": "https://localhost:8080/"
        }
      },
      "execution_count": 71,
      "outputs": [
        {
          "output_type": "stream",
          "name": "stdout",
          "text": [
            "point 1 to grade F\n"
          ]
        }
      ]
    },
    {
      "cell_type": "code",
      "source": [
        "# input list \n",
        "def cal_grade_list(score):\n",
        "    for x in score:\n",
        "        if type(x) == type(''):\n",
        "            print(f'point {x} Can not find your grade')\n",
        "        else:\n",
        "            if x >= 0 and x < 50:\n",
        "                print(f'point {x} to grade F')\n",
        "            elif x >= 50 and x < 55:\n",
        "                print(f'point {x} to grade D')\n",
        "            elif x >= 55 and x < 60:\n",
        "                print(f'point {x} to grade D+')\n",
        "            elif x >= 60 and x < 65:\n",
        "                print(f'point {x} to grade C')\n",
        "            elif x >= 65 and x < 70:\n",
        "                print(f'point {x} to grade C+')\n",
        "            elif x >= 70 and x < 75:\n",
        "                print(f'point {x} to grade B')\n",
        "            elif x >= 75 and x < 80:\n",
        "                print(f'point {x} to grade B+')\n",
        "            elif x >= 80 and x <= 100:\n",
        "                print(f'point {x} to grade A')\n",
        "            else:\n",
        "                print(f'point {x} Can not find your grade')\n"
      ],
      "metadata": {
        "id": "5h-RN8UBYobM"
      },
      "execution_count": 80,
      "outputs": []
    },
    {
      "cell_type": "code",
      "source": [
        "input = [1,50,65,90,101,-5,49,'ก',80]\n",
        "cal_grade_list(input)"
      ],
      "metadata": {
        "id": "IefREBdvZuk8",
        "outputId": "a284d982-80e5-4003-cca8-d1e03ad2e53f",
        "colab": {
          "base_uri": "https://localhost:8080/"
        }
      },
      "execution_count": 81,
      "outputs": [
        {
          "output_type": "stream",
          "name": "stdout",
          "text": [
            "point 1 to grade F\n",
            "point 50 to grade D\n",
            "point 65 to grade C+\n",
            "point 90 to grade A\n",
            "point 101 Can not find your grade\n",
            "point -5 Can not find your grade\n",
            "point 49 to grade F\n",
            "point ก Can not find your grade\n",
            "point 80 to grade A\n"
          ]
        }
      ]
    },
    {
      "cell_type": "code",
      "source": [
        ""
      ],
      "metadata": {
        "id": "d1sE-_3_baNZ"
      },
      "execution_count": 82,
      "outputs": []
    }
  ]
}